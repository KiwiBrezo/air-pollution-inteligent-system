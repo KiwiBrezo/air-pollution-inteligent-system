{
 "cells": [
  {
   "cell_type": "code",
   "execution_count": 5,
   "metadata": {
    "collapsed": true
   },
   "outputs": [],
   "source": [
    "import numpy as np\n",
    "import pandas as pd\n",
    "\n",
    "from sklearn.ensemble import RandomForestRegressor\n",
    "from sklearn.pipeline import Pipeline\n",
    "from sklearn.impute import SimpleImputer\n",
    "from sklearn.model_selection import GridSearchCV\n",
    "from sklearn import metrics\n",
    "\n",
    "train_csv_filename = \"../data/processed/train_data.csv\"\n",
    "test_csv_filename = \"../data/processed/test_data.csv\"\n",
    "df_train = pd.read_csv(train_csv_filename)\n",
    "df_test = pd.read_csv(test_csv_filename)\n",
    "\n",
    "df_train_x = df_train[[\"temperature\", \"relativehumidity\", \"dewpoint\", \"surface_pressure\", \"cloudcover\", \"windspeed\", \"winddirection\",\n",
    "         \"pm25\"]]\n",
    "\n",
    "df_train_y = df_train[\"pm10\"]\n",
    "\n",
    "df_test_x = df_test[[\"temperature\", \"relativehumidity\", \"dewpoint\", \"surface_pressure\", \"cloudcover\", \"windspeed\", \"winddirection\",\n",
    "         \"pm25\"]]\n",
    "\n",
    "df_test_y = df_test[\"pm10\"]\n",
    "\n",
    "x_train = np.array(df_train_x)\n",
    "x_test = np.array(df_test_x)\n",
    "y_train = np.array(df_train_y)\n",
    "y_test = np.array(df_test_y)"
   ]
  },
  {
   "cell_type": "code",
   "execution_count": 2,
   "outputs": [
    {
     "name": "stdout",
     "output_type": "stream",
     "text": [
      "{'regressor__max_depth': 10, 'regressor__max_features': 'log2', 'regressor__min_samples_leaf': 2, 'regressor__min_samples_split': 20, 'regressor__n_estimators': 50}\n"
     ]
    }
   ],
   "source": [
    "pipe = Pipeline([\n",
    "        ('imputer', SimpleImputer()),\n",
    "        ('regressor', RandomForestRegressor())\n",
    "    ])\n",
    "\n",
    "param_grid = {\n",
    "    'regressor__n_estimators': [5, 10, 25, 50, 100, 200],\n",
    "    'regressor__max_features': ['sqrt', 'log2'],\n",
    "    'regressor__max_depth': [3, 5, 10, 20],\n",
    "    'regressor__min_samples_split': [2, 5, 10, 20, 35],\n",
    "    'regressor__min_samples_leaf': [1, 2, 4, 8, 20],\n",
    "}\n",
    "\n",
    "grid_search = GridSearchCV(pipe, param_grid=param_grid, cv=5)\n",
    "grid_search.fit(x_train, y_train)\n",
    "\n",
    "print(grid_search.best_params_)"
   ],
   "metadata": {
    "collapsed": false
   }
  },
  {
   "cell_type": "code",
   "execution_count": 6,
   "outputs": [
    {
     "name": "stdout",
     "output_type": "stream",
     "text": [
      "Mean Absolute Error (MAE): 2.718555482632967\n",
      "Mean Squared Error (MSE): 14.025143305265827\n",
      "Root Mean Squared Error (RMSE): 3.7450157950622622\n",
      "Mean Absolute Percentage Error (MAPE): 22.45\n",
      "Accuracy: 77.55\n"
     ]
    }
   ],
   "source": [
    "#model = RandomForestRegressor(**grid_search.best_params_)\n",
    "train_pipe = Pipeline([\n",
    "    ('imputer', SimpleImputer()),\n",
    "    ('regressor', RandomForestRegressor())\n",
    "])\n",
    "\n",
    "train_pipe.set_params(**grid_search.best_params_)\n",
    "\n",
    "train_pipe.fit(x_train, y_train)\n",
    "\n",
    "predictions = train_pipe.predict(x_test)\n",
    "\n",
    "mae = metrics.mean_absolute_error(y_test, predictions)\n",
    "mse = metrics.mean_squared_error(y_test, predictions)\n",
    "rmse = np.sqrt(metrics.mean_squared_error(y_test, predictions))\n",
    "mape = np.mean(np.abs((y_test - predictions) / np.abs(predictions)))\n",
    "acc = round(100 * (1 - mape), 2)\n",
    "\n",
    "print('Mean Absolute Error (MAE):', mae)\n",
    "print('Mean Squared Error (MSE):', mse)\n",
    "print('Root Mean Squared Error (RMSE):', rmse)\n",
    "print('Mean Absolute Percentage Error (MAPE):', round(mape * 100, 2))\n",
    "print('Accuracy:', acc)"
   ],
   "metadata": {
    "collapsed": false
   }
  }
 ],
 "metadata": {
  "kernelspec": {
   "display_name": "Python 3",
   "language": "python",
   "name": "python3"
  },
  "language_info": {
   "codemirror_mode": {
    "name": "ipython",
    "version": 2
   },
   "file_extension": ".py",
   "mimetype": "text/x-python",
   "name": "python",
   "nbconvert_exporter": "python",
   "pygments_lexer": "ipython2",
   "version": "2.7.6"
  }
 },
 "nbformat": 4,
 "nbformat_minor": 0
}
